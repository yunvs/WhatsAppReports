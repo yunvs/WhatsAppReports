{
 "cells": [
  {
   "cell_type": "code",
   "execution_count": 1,
   "metadata": {},
   "outputs": [],
   "source": [
    "# Importing all libaries\n",
    "import numpy as np\n",
    "import pandas as pd\n",
    "import matplotlib.pyplot as plt\n",
    "import matplotlib.cm as cm\n"
   ]
  },
  {
   "cell_type": "code",
   "execution_count": 2,
   "metadata": {},
   "outputs": [],
   "source": [
    "stats_df = pd.read_csv(\"data/testing/exports/database/stats_df.csv\", index_col=0)\n",
    "senders = list(pd.read_csv(\"data/testing/exports/database/senders_df.csv\", index_col=0)[\"0\"])\n",
    "msg = stats_df.iloc[0:-1, 0]"
   ]
  },
  {
   "cell_type": "code",
   "execution_count": 6,
   "metadata": {},
   "outputs": [],
   "source": [
    "def cmap(cm_name: str, countable):\n",
    "\tif type(countable) != int:\n",
    "\t\tcountable = len(countable)\n",
    "\treturn cm.get_cmap(cm_name)(np.linspace(.2, .8, countable+1))"
   ]
  },
  {
   "cell_type": "code",
   "execution_count": 13,
   "metadata": {},
   "outputs": [],
   "source": [
    "def plot0() -> None:\n",
    "\t# create pie chart from msg_count in stats_df\n",
    "\tplt.pie(stats_df.iloc[0:-1, 0], startangle=90, colors=cmap(\"Greens_r\", senders), counterclock=False, autopct=\"%1.1f%%\", wedgeprops={\"ec\":\"w\"})\n",
    "\tplt.legend(labels=senders, title=\"Sender:\", shadow=True, loc=\"best\")\n",
    "\treturn plt.savefig(\"data/output/images/firstpage/plot0.png\", transparent=True)"
   ]
  },
  {
   "cell_type": "code",
   "execution_count": 5,
   "metadata": {},
   "outputs": [],
   "source": [
    "\n",
    "\t\n",
    "z = db.chat_og['Date'].value_counts()\n",
    "z1 = z.to_dict() #converts to dictionary\n",
    "db.chat_og['Msg_count'] = db.chat_og['Date'].map(z1)\n",
    "### Timeseries plot \n",
    "fig = px.line(x=db.chat_og['Date'], y=db.chat_og['Msg_count'])\n",
    "fig.update_layout(title=\"Analysis of number of message's using TimeSeries plot.\", xaxis_title=\"Month\", yaxis_title=\"No. of Messages\")\n",
    "fig.update_xaxes(nticks=20)\n",
    "fig.show()"
   ]
  }
 ],
 "metadata": {
  "kernelspec": {
   "display_name": "Python 3.9.7 ('base')",
   "language": "python",
   "name": "python3"
  },
  "language_info": {
   "codemirror_mode": {
    "name": "ipython",
    "version": 3
   },
   "file_extension": ".py",
   "mimetype": "text/x-python",
   "name": "python",
   "nbconvert_exporter": "python",
   "pygments_lexer": "ipython3",
   "version": "3.9.7"
  },
  "orig_nbformat": 4,
  "vscode": {
   "interpreter": {
    "hash": "76d86572bad17bf0e1204bdf0bb9a2548d7ad6c08ea91f96480aafba447573d7"
   }
  }
 },
 "nbformat": 4,
 "nbformat_minor": 2
}
